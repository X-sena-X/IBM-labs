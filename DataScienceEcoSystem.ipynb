{
 "cells": [
  {
   "cell_type": "markdown",
   "id": "474695e7",
   "metadata": {},
   "source": [
    "# Data Science tools and Ecosystem"
   ]
  },
  {
   "cell_type": "markdown",
   "id": "b29a0903",
   "metadata": {},
   "source": [
    "### In this notebook i am going to summarize the tools and packages I learnt from this course "
   ]
  },
  {
   "cell_type": "markdown",
   "id": "a1842895",
   "metadata": {},
   "source": [
    "## Objectives:\n",
    "\n",
    "1. List popular languages for Data Science\n",
    "2. List popular packages used in Data science\n",
    "3. List the arthmetic operations in python"
   ]
  },
  {
   "cell_type": "markdown",
   "id": "ae7b7c63",
   "metadata": {},
   "source": [
    "when it comes to data science, several programming languages are commonly used for data analysis, machine learning, and statistical modeling. some popular data science languages include:\n",
    "\n",
    "1. python\n",
    "2. r\n",
    "3. julia\n",
    "4. sql\n",
    "5. scala"
   ]
  },
  {
   "cell_type": "markdown",
   "id": "08267955",
   "metadata": {},
   "source": [
    "data science libraries play a crucial role in simplifying complex data analysis tasks and providing efficient tools for machine learning and statistical modeling. here are some commonly used data science libraries:\n",
    "\n",
    "1. numpy: a fundamental library for scientific computing in python, providing support for large, multi-dimensional arrays and matrices.\n",
    "\n",
    "2. pandas: a versatile library for data manipulation and analysis, offering data structures and functions for efficient data handling.\n",
    "\n",
    "3. matplotlib: a powerful visualization library in python for creating static, animated, and interactive visualizations.\n",
    "\n",
    "4. scikit-learn: a comprehensive machine learning library that provides a wide range of algorithms and tools for classification, regression, clustering, and more.\n",
    "\n",
    "5. tensorflow: an open-source library for machine learning and deep learning, widely used for developing and training neural networks.\n",
    "\n",
    "6. pytorch: another popular library for deep learning that provides dynamic computational graphs and a strong focus on gpu acceleration."
   ]
  },
  {
   "cell_type": "markdown",
   "id": "7db834dd",
   "metadata": {},
   "source": [
    "| Data Science Tools |\n",
    "|--------------------|\n",
    "| jupyter notebook   | \n",
    "| rstudio            |\n",
    "| apache spark       |\n",
    "| tableau            |"
   ]
  },
  {
   "cell_type": "markdown",
   "id": "9c5ed370",
   "metadata": {},
   "source": [
    "### Below are a few examples of evaluating arithmetic expressions in Python\n",
    "\n",
    "##### Addition\n",
    "x+y\n",
    "\n",
    "##### Substraction\n",
    "\n",
    "x-y\n",
    "\n",
    "##### Multiplication\n",
    "\n",
    "x * y\n"
   ]
  },
  {
   "cell_type": "code",
   "execution_count": 6,
   "id": "36ca4852",
   "metadata": {},
   "outputs": [
    {
     "data": {
      "text/plain": [
       "27"
      ]
     },
     "execution_count": 6,
     "metadata": {},
     "output_type": "execute_result"
    }
   ],
   "source": [
    "# This a simple arithmetic expression to mutiply then add integers\n",
    "\n",
    "x = 3*(4+5)\n",
    "x"
   ]
  },
  {
   "cell_type": "code",
   "execution_count": 7,
   "id": "7f20a4a7",
   "metadata": {},
   "outputs": [
    {
     "data": {
      "text/plain": [
       "3.3333333333333335"
      ]
     },
     "execution_count": 7,
     "metadata": {},
     "output_type": "execute_result"
    }
   ],
   "source": [
    "# This will convert 200 minutes to hours by diving by 60.\n",
    "\n",
    "x = 200\n",
    "y = x / 60\n",
    "y"
   ]
  },
  {
   "cell_type": "markdown",
   "id": "1ae64a3f",
   "metadata": {},
   "source": []
  },
  {
   "cell_type": "markdown",
   "id": "d39ab2f2",
   "metadata": {},
   "source": [
    "## Author:\n",
    "Sena Abhishek"
   ]
  },
  {
   "cell_type": "code",
   "execution_count": null,
   "id": "350c7b2f",
   "metadata": {},
   "outputs": [],
   "source": []
  }
 ],
 "metadata": {
  "kernelspec": {
   "display_name": "Python 3 (ipykernel)",
   "language": "python",
   "name": "python3"
  },
  "language_info": {
   "codemirror_mode": {
    "name": "ipython",
    "version": 3
   },
   "file_extension": ".py",
   "mimetype": "text/x-python",
   "name": "python",
   "nbconvert_exporter": "python",
   "pygments_lexer": "ipython3",
   "version": "3.9.13"
  }
 },
 "nbformat": 4,
 "nbformat_minor": 5
}
